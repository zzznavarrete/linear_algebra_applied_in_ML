{
 "cells": [
  {
   "cell_type": "markdown",
   "metadata": {},
   "source": [
    "La maldición de la dimensión: Esto dice que por cada variable que agrego en el conjunto de datos vamos a necesitar exponencialmente más muestras para poder tener la misma relevancia estadística.\n",
    "\n",
    "Cuál es el autovector relacionado con el autovalor más grande? Es el autovalor quien define cual es la dirección que contiene más información."
   ]
  },
  {
   "cell_type": "code",
   "execution_count": 1,
   "metadata": {},
   "outputs": [],
   "source": [
    "%matplotlib inline\n",
    "\n",
    "import numpy as np\n",
    "import matplotlib.pyplot as plt"
   ]
  },
  {
   "cell_type": "code",
   "execution_count": 3,
   "metadata": {},
   "outputs": [
    {
     "name": "stdout",
     "output_type": "stream",
     "text": [
      "[[1.12362036]\n",
      " [2.85214292]\n",
      " [2.19598183]\n",
      " [1.79597545]\n",
      " [0.46805592]\n",
      " [0.46798356]\n",
      " [0.17425084]\n",
      " [2.59852844]\n",
      " [1.80334504]\n",
      " [2.12421773]\n",
      " [0.06175348]\n",
      " [2.90972956]\n",
      " [2.49732792]\n",
      " [0.63701733]\n",
      " [0.5454749 ]\n",
      " [0.55021353]\n",
      " [0.91272673]\n",
      " [1.57426929]\n",
      " [1.29583506]\n",
      " [0.87368742]\n",
      " [1.83555868]\n",
      " [0.41848158]\n",
      " [0.87643395]\n",
      " [1.09908553]\n",
      " [1.36820995]\n",
      " [2.35552788]\n",
      " [0.59902135]\n",
      " [1.54270332]\n",
      " [1.77724371]\n",
      " [0.13935124]\n",
      " [1.82263456]\n",
      " [0.51157237]\n",
      " [0.19515478]\n",
      " [2.84665661]\n",
      " [2.8968961 ]\n",
      " [2.42519204]\n",
      " [0.91384131]\n",
      " [0.29301634]\n",
      " [2.05269908]\n",
      " [1.32045748]\n",
      " [0.3661147 ]\n",
      " [1.48553073]\n",
      " [0.10316556]\n",
      " [2.72796121]\n",
      " [0.77633994]\n",
      " [1.98756685]\n",
      " [0.93513323]\n",
      " [1.56020406]\n",
      " [1.64013084]\n",
      " [0.55456337]\n",
      " [2.90875388]\n",
      " [2.32539847]\n",
      " [2.81849682]\n",
      " [2.68448205]\n",
      " [1.79369994]\n",
      " [2.76562271]\n",
      " [0.26547751]\n",
      " [0.58794859]\n",
      " [0.13568187]\n",
      " [0.97599099]\n",
      " [1.16603187]\n",
      " [0.8140471 ]\n",
      " [2.48621253]\n",
      " [1.07025998]\n",
      " [0.84280353]\n",
      " [1.62808825]\n",
      " [0.42277267]\n",
      " [2.40659094]\n",
      " [0.22365193]\n",
      " [2.96066081]\n",
      " [2.31673431]\n",
      " [0.59614704]\n",
      " [0.01656635]\n",
      " [2.44638429]\n",
      " [2.12057203]\n",
      " [2.1870215 ]\n",
      " [2.31381104]\n",
      " [0.22213396]\n",
      " [1.07539719]\n",
      " [0.34760718]\n",
      " [2.58931028]\n",
      " [1.86989438]\n",
      " [0.99269407]\n",
      " [0.19067505]\n",
      " [0.93294697]\n",
      " [0.97554997]\n",
      " [2.18881854]\n",
      " [1.91267241]\n",
      " [2.66163823]\n",
      " [1.41664478]\n",
      " [0.35878274]\n",
      " [2.13973436]\n",
      " [2.28235515]\n",
      " [1.68383159]\n",
      " [2.31290154]\n",
      " [1.48138679]\n",
      " [1.56819849]\n",
      " [1.28262306]\n",
      " [0.07625738]\n",
      " [0.32367428]\n",
      " [0.09428756]\n",
      " [1.90923123]\n",
      " [0.94306794]\n",
      " [1.52571207]\n",
      " [2.72269942]\n",
      " [0.74787669]\n",
      " [1.23114877]\n",
      " [2.26665342]\n",
      " [0.6863945 ]\n",
      " [0.23093973]\n",
      " [0.86925436]\n",
      " [0.48366386]\n",
      " [2.78909296]\n",
      " [2.42436114]\n",
      " [1.90021127]\n",
      " [2.61438177]\n",
      " [2.41101623]\n",
      " [0.55971018]\n",
      " [2.677677  ]\n",
      " [1.61802673]\n",
      " [2.42232047]\n",
      " [2.6882739 ]\n",
      " [0.95401042]\n",
      " [0.33015577]\n",
      " [0.68380549]\n",
      " [1.28132337]\n",
      " [2.4540443 ]\n",
      " [2.58219175]\n",
      " [0.02085639]\n",
      " [1.53224191]\n",
      " [1.25223301]\n",
      " [0.66632343]\n",
      " [0.3595961 ]\n",
      " [1.01284551]\n",
      " [2.82872911]\n",
      " [0.9696088 ]\n",
      " [1.55637187]\n",
      " [2.10905688]\n",
      " [1.09088881]\n",
      " [2.91534625]\n",
      " [2.88734188]\n",
      " [0.75534689]\n",
      " [1.49174552]\n",
      " [0.90263493]\n",
      " [0.85452148]\n",
      " [0.11066084]\n",
      " [1.828693  ]\n",
      " [1.50803707]\n",
      " [0.15443625]\n",
      " [0.83593939]\n",
      " [2.72479766]\n",
      " [0.71868567]\n",
      " [0.43468462]\n",
      " [1.46835828]\n",
      " [2.95695136]\n",
      " [0.72616581]\n",
      " [2.01640664]\n",
      " [2.28485885]\n",
      " [0.71291263]\n",
      " [2.18464905]\n",
      " [1.1033494 ]\n",
      " [1.89691749]\n",
      " [1.90058913]\n",
      " [1.60732405]\n",
      " [0.27086931]\n",
      " [2.50590749]\n",
      " [0.96234019]\n",
      " [0.55955553]\n",
      " [0.12232542]\n",
      " [1.77267883]\n",
      " [2.03269309]\n",
      " [0.04976349]\n",
      " [1.53627917]\n",
      " [0.67948733]\n",
      " [1.93551837]\n",
      " [0.52309929]\n",
      " [2.07281321]\n",
      " [1.16020604]\n",
      " [2.81018997]\n",
      " [0.41256283]\n",
      " [1.02319905]\n",
      " [0.34042056]\n",
      " [2.77408085]\n",
      " [2.63201806]\n",
      " [0.77382488]\n",
      " [1.97995214]\n",
      " [2.4516666 ]\n",
      " [1.66560243]\n",
      " [1.58895174]\n",
      " [0.72555687]\n",
      " [0.2793083 ]\n",
      " [2.69164727]\n",
      " [2.70125417]\n",
      " [1.89930437]\n",
      " [1.01708937]\n",
      " [1.04762872]\n",
      " [2.17786704]\n",
      " [2.69133078]\n",
      " [2.66125927]\n",
      " [2.33962664]]\n",
      "[[23.75647042]\n",
      " [57.21113831]\n",
      " [44.24289394]\n",
      " [37.71661743]\n",
      " [10.57397655]\n",
      " [ 9.37806532]\n",
      " [ 3.68795982]\n",
      " [53.29757228]\n",
      " [36.07702387]\n",
      " [42.80597077]\n",
      " [ 2.33253724]\n",
      " [59.57838153]\n",
      " [51.25048097]\n",
      " [13.18888526]\n",
      " [12.33385648]\n",
      " [11.47876877]\n",
      " [18.90533397]\n",
      " [32.97836871]\n",
      " [27.21596692]\n",
      " [19.17219523]\n",
      " [38.02639947]\n",
      " [ 9.50624885]\n",
      " [17.71602845]\n",
      " [22.7171422 ]\n",
      " [27.89460379]\n",
      " [47.59853697]\n",
      " [13.92644804]\n",
      " [31.64026175]\n",
      " [37.32896724]\n",
      " [ 4.04930202]\n",
      " [38.04231372]\n",
      " [11.23672161]\n",
      " [ 5.05690335]\n",
      " [57.91816762]\n",
      " [58.32840796]\n",
      " [49.94874512]\n",
      " [18.83837088]\n",
      " [ 5.90895877]\n",
      " [42.34492618]\n",
      " [26.76337098]\n",
      " [ 9.20321126]\n",
      " [31.61847176]\n",
      " [ 3.89304005]\n",
      " [55.29954153]\n",
      " [15.55771213]\n",
      " [41.60797419]\n",
      " [19.55903286]\n",
      " [33.13739091]\n",
      " [34.72985671]\n",
      " [12.79728624]\n",
      " [58.76397545]\n",
      " [47.27816486]\n",
      " [58.07220984]\n",
      " [54.32348504]\n",
      " [36.21298422]\n",
      " [56.42605663]\n",
      " [ 7.18185967]\n",
      " [13.15103134]\n",
      " [ 3.85375967]\n",
      " [19.71417283]\n",
      " [24.55065183]\n",
      " [18.26104961]\n",
      " [50.00441858]\n",
      " [22.44185891]\n",
      " [18.61081673]\n",
      " [34.04330223]\n",
      " [ 9.84948498]\n",
      " [49.53678701]\n",
      " [ 5.19202092]\n",
      " [59.80039988]\n",
      " [47.95340847]\n",
      " [13.54316768]\n",
      " [ 2.06547166]\n",
      " [50.75416681]\n",
      " [43.43412543]\n",
      " [44.74346267]\n",
      " [47.87281116]\n",
      " [ 5.74260697]\n",
      " [22.91187747]\n",
      " [ 8.54372891]\n",
      " [53.56621624]\n",
      " [38.07387792]\n",
      " [20.6050474 ]\n",
      " [ 4.0014649 ]\n",
      " [19.81549958]\n",
      " [19.58288387]\n",
      " [44.70756674]\n",
      " [39.33873755]\n",
      " [53.80584706]\n",
      " [29.51456203]\n",
      " [ 7.23665526]\n",
      " [42.86938361]\n",
      " [47.29230404]\n",
      " [34.39701314]\n",
      " [46.51215182]\n",
      " [30.6722223 ]\n",
      " [32.90395687]\n",
      " [26.08410316]\n",
      " [ 2.77092856]\n",
      " [ 6.64418055]\n",
      " [ 1.98911458]\n",
      " [39.24733394]\n",
      " [19.94262911]\n",
      " [31.78910127]\n",
      " [55.9061711 ]\n",
      " [16.90923791]\n",
      " [25.65557608]\n",
      " [45.97898126]\n",
      " [15.31826232]\n",
      " [ 5.16045909]\n",
      " [18.26303002]\n",
      " [ 9.83019   ]\n",
      " [55.83256063]\n",
      " [50.4125196 ]\n",
      " [39.67618563]\n",
      " [53.67958382]\n",
      " [49.0382305 ]\n",
      " [11.54079217]\n",
      " [53.86641399]\n",
      " [32.86102031]\n",
      " [49.54486264]\n",
      " [55.19466984]\n",
      " [20.40060325]\n",
      " [ 7.16298327]\n",
      " [15.58584031]\n",
      " [27.10226115]\n",
      " [50.18959406]\n",
      " [52.86727649]\n",
      " [ 1.25632796]\n",
      " [31.14030013]\n",
      " [25.75660555]\n",
      " [14.84216085]\n",
      " [ 7.22070902]\n",
      " [20.48905557]\n",
      " [56.66658752]\n",
      " [19.47363353]\n",
      " [32.83835847]\n",
      " [43.58845325]\n",
      " [22.7661238 ]\n",
      " [58.50259328]\n",
      " [58.73006945]\n",
      " [16.05388129]\n",
      " [30.18131409]\n",
      " [18.92040189]\n",
      " [17.88743913]\n",
      " [ 3.44491704]\n",
      " [37.84404734]\n",
      " [30.25134941]\n",
      " [ 3.8379503 ]\n",
      " [17.97050769]\n",
      " [55.50222568]\n",
      " [16.08669312]\n",
      " [10.01107959]\n",
      " [29.69303447]\n",
      " [59.28016474]\n",
      " [15.80815485]\n",
      " [40.38115547]\n",
      " [46.86872808]\n",
      " [16.13871312]\n",
      " [44.84392927]\n",
      " [22.84332782]\n",
      " [39.22492627]\n",
      " [38.92828843]\n",
      " [33.23771462]\n",
      " [ 7.30031582]\n",
      " [50.89035501]\n",
      " [21.16918503]\n",
      " [13.00181191]\n",
      " [ 2.83809076]\n",
      " [35.59229919]\n",
      " [40.85541771]\n",
      " [ 1.03171339]\n",
      " [30.91446942]\n",
      " [14.95576006]\n",
      " [38.85274472]\n",
      " [11.099937  ]\n",
      " [43.14601491]\n",
      " [23.25066465]\n",
      " [57.83273629]\n",
      " [ 8.8149662 ]\n",
      " [20.70031072]\n",
      " [ 8.20188561]\n",
      " [56.73950279]\n",
      " [54.39530523]\n",
      " [16.94663975]\n",
      " [41.20600462]\n",
      " [49.59740116]\n",
      " [33.66692778]\n",
      " [33.2802642 ]\n",
      " [16.12480693]\n",
      " [ 7.56717635]\n",
      " [54.65818083]\n",
      " [54.7691196 ]\n",
      " [39.53891336]\n",
      " [21.02339454]\n",
      " [22.81408913]\n",
      " [45.27416624]\n",
      " [54.68460365]\n",
      " [54.72692759]\n",
      " [48.3016185 ]]\n"
     ]
    }
   ],
   "source": [
    "# Experimento con PCA sólo con números random\n",
    "\n",
    "# Definimos la semilla \n",
    "np.random.seed(42)\n",
    "\n",
    "x = 3*np.random.rand(200)\n",
    "y = 20*x + 2*np.random.rand(200)\n",
    "\n",
    "x = x.reshape(200, 1)\n",
    "y = y.reshape(200, 1)\n",
    "\n",
    "print(x)\n",
    "print(y)"
   ]
  },
  {
   "cell_type": "code",
   "execution_count": 4,
   "metadata": {},
   "outputs": [
    {
     "name": "stdout",
     "output_type": "stream",
     "text": [
      "(200, 2)\n"
     ]
    }
   ],
   "source": [
    "# Uniendo los pares para mostrarlos en el plano cartesiano\n",
    "xy = np.hstack([x, y])\n",
    "print(xy.shape)"
   ]
  },
  {
   "cell_type": "code",
   "execution_count": 5,
   "metadata": {},
   "outputs": [
    {
     "data": {
      "image/png": "[encoded data removed]",
      "text/plain": [
       "<Figure size 432x288 with 1 Axes>"
      ]
     },
     "metadata": {
      "needs_background": "light"
     },
     "output_type": "display_data"
    }
   ],
   "source": [
    "plt.plot(xy[:, 0], xy[:, 1], '.')\n",
    "\n",
    "plt.show()"
   ]
  },
  {
   "cell_type": "code",
   "execution_count": 6,
   "metadata": {},
   "outputs": [],
   "source": [
    "xy_centrado = xy - np.mean(xy, axis = 0)"
   ]
  },
  {
   "cell_type": "code",
   "execution_count": 7,
   "metadata": {},
   "outputs": [
    {
     "data": {
      "image/png": "[encoded data removed]",
      "text/plain": [
       "<Figure size 432x288 with 1 Axes>"
      ]
     },
     "metadata": {
      "needs_background": "light"
     },
     "output_type": "display_data"
    }
   ],
   "source": [
    "# Ahora queda el eje 0,0 como centro del gráfico.\n",
    "plt.plot(xy_centrado[:, 0], xy_centrado[:, 1], '.')\n",
    "\n",
    "plt.show()"
   ]
  },
  {
   "cell_type": "markdown",
   "metadata": {},
   "source": [
    "Ahora necesitamos buscar las componentes principales. Para lo cual necesitamos resolver un problema. \n",
    "\n",
    "Estas componentes son un d que nos dan un máximo de la traza de d.T * x.T * Xd. Tenemos que poner una restricción más, tenemos que pedir que el resultado tenga norma 1, esto quiere decir que d.T * d = 1. Con esto limitaremos la cantidad de soluciones, de otra manera, siempre sería posible encontrar una solución más.\n"
   ]
  },
  {
   "cell_type": "code",
   "execution_count": 8,
   "metadata": {},
   "outputs": [
    {
     "name": "stdout",
     "output_type": "stream",
     "text": [
      "[[-0.99875285 -0.04992746]\n",
      " [ 0.04992746 -0.99875285]]\n"
     ]
    }
   ],
   "source": [
    "autovalores, autovectores = np.linalg.eig(xy_centrado.T.dot(xy_centrado))\n",
    "print(autovectores)"
   ]
  },
  {
   "cell_type": "code",
   "execution_count": 9,
   "metadata": {},
   "outputs": [],
   "source": [
    "%run \"./aux_functions/graficarVectores.ipynb\""
   ]
  },
  {
   "cell_type": "code",
   "execution_count": 12,
   "metadata": {},
   "outputs": [
    {
     "data": {
      "image/png": "[encoded data removed]",
      "text/plain": [
       "<Figure size 432x288 with 1 Axes>"
      ]
     },
     "metadata": {
      "needs_background": "light"
     },
     "output_type": "display_data"
    }
   ],
   "source": [
    "graficarVectores(autovectores.T, ['blue', 'red'])\n",
    "\n",
    "plt.plot(xy_centrado[:, 0], xy_centrado[:, 1]/20, '.')\n",
    "\n",
    "plt.show()"
   ]
  },
  {
   "cell_type": "code",
   "execution_count": 13,
   "metadata": {},
   "outputs": [
    {
     "name": "stdout",
     "output_type": "stream",
     "text": [
      "[1.70408413e-01 6.24117888e+04]\n"
     ]
    }
   ],
   "source": [
    "print(autovalores)"
   ]
  },
  {
   "cell_type": "code",
   "execution_count": 14,
   "metadata": {},
   "outputs": [],
   "source": [
    "xy_nuevo = autovectores.T.dot(xy_centrado.T)"
   ]
  },
  {
   "cell_type": "code",
   "execution_count": 16,
   "metadata": {},
   "outputs": [
    {
     "data": {
      "image/png": "[encoded data removed]",
      "text/plain": [
       "<Figure size 432x288 with 1 Axes>"
      ]
     },
     "metadata": {
      "needs_background": "light"
     },
     "output_type": "display_data"
    }
   ],
   "source": [
    "plt.plot(xy_nuevo[0, :], xy_nuevo[1, :], '.')\n",
    "\n",
    "plt.show()"
   ]
  },
  {
   "cell_type": "code",
   "execution_count": null,
   "metadata": {},
   "outputs": [],
   "source": []
  }
 ],
 "metadata": {
  "kernelspec": {
   "display_name": "Python 3",
   "language": "python",
   "name": "python3"
  },
  "language_info": {
   "codemirror_mode": {
    "name": "ipython",
    "version": 3
   },
   "file_extension": ".py",
   "mimetype": "text/x-python",
   "name": "python",
   "nbconvert_exporter": "python",
   "pygments_lexer": "ipython3",
   "version": "3.7.4"
  }
 },
 "nbformat": 4,
 "nbformat_minor": 2
}
